{
 "cells": [
  {
   "cell_type": "code",
   "execution_count": 1,
   "id": "61eca484-717f-42d6-a00b-f7a275003a89",
   "metadata": {},
   "outputs": [],
   "source": [
    "n = 1.0 / 3"
   ]
  },
  {
   "cell_type": "code",
   "execution_count": 2,
   "id": "b6c2e9b9-61de-4b9a-9b0f-6f7d62ffb77d",
   "metadata": {},
   "outputs": [
    {
     "data": {
      "text/plain": [
       "0.3333333333333333"
      ]
     },
     "execution_count": 2,
     "metadata": {},
     "output_type": "execute_result"
    }
   ],
   "source": [
    "n"
   ]
  },
  {
   "cell_type": "code",
   "execution_count": 3,
   "id": "ebecc4ee-a8a3-4d8a-b786-bb747d1d4320",
   "metadata": {},
   "outputs": [],
   "source": [
    "m = 1 - n"
   ]
  },
  {
   "cell_type": "code",
   "execution_count": 4,
   "id": "6121bb80-18ba-406f-b104-ab0731781f3b",
   "metadata": {},
   "outputs": [
    {
     "data": {
      "text/plain": [
       "0.6666666666666667"
      ]
     },
     "execution_count": 4,
     "metadata": {},
     "output_type": "execute_result"
    }
   ],
   "source": [
    "m"
   ]
  },
  {
   "cell_type": "code",
   "execution_count": 5,
   "id": "99a62bcb-80b2-44be-858c-91352d5ec420",
   "metadata": {},
   "outputs": [
    {
     "data": {
      "text/plain": [
       "2.0"
      ]
     },
     "execution_count": 5,
     "metadata": {},
     "output_type": "execute_result"
    }
   ],
   "source": [
    "3 * m"
   ]
  },
  {
   "cell_type": "code",
   "execution_count": null,
   "id": "15316bac-cbd0-418d-a33a-5fad46c520d8",
   "metadata": {},
   "outputs": [],
   "source": []
  }
 ],
 "metadata": {
  "kernelspec": {
   "display_name": "Python 3 (ipykernel)",
   "language": "python",
   "name": "python3"
  },
  "language_info": {
   "codemirror_mode": {
    "name": "ipython",
    "version": 3
   },
   "file_extension": ".py",
   "mimetype": "text/x-python",
   "name": "python",
   "nbconvert_exporter": "python",
   "pygments_lexer": "ipython3",
   "version": "3.10.12"
  }
 },
 "nbformat": 4,
 "nbformat_minor": 5
}
